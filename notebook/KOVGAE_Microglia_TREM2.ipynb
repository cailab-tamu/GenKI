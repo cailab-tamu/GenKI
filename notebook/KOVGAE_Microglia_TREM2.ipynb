{
 "cells": [
  {
   "cell_type": "code",
   "execution_count": 1,
   "id": "ffae2228",
   "metadata": {},
   "outputs": [],
   "source": [
    "import numpy as np\n",
    "import pandas as pd\n",
    "import matplotlib.pyplot as plt\n",
    "import scanpy as sc\n",
    "sc.settings.verbosity = 0\n",
    "import warnings\n",
    "warnings.filterwarnings(\"ignore\")\n",
    "\n",
    "%load_ext autoreload\n",
    "%autoreload 2"
   ]
  },
  {
   "cell_type": "code",
   "execution_count": 2,
   "id": "ea8e9804",
   "metadata": {},
   "outputs": [],
   "source": [
    "import GenKI as gk"
   ]
  },
  {
   "cell_type": "code",
   "execution_count": 3,
   "id": "bd7d6a5b",
   "metadata": {},
   "outputs": [
    {
     "data": {
      "text/plain": [
       "AnnData object with n_obs × n_vars = 1139 × 3000\n",
       "    obs: 'sce_source', 'treatment', 'trem2_genotype', 'snn_cluster', 'nCount_RNA', 'nFeature_RNA'\n",
       "    var: 'vst.mean', 'vst.variance', 'vst.variance.expected', 'vst.variance.standardized', 'vst.variable'"
      ]
     },
     "execution_count": 3,
     "metadata": {},
     "output_type": "execute_result"
    }
   ],
   "source": [
    "ada_WT = sc.read_h5ad('data/microglial_seurat_WT.h5ad')\n",
    "ada_WT.var_names = ada_WT.var_names.str.upper()\n",
    "\n",
    "ada_WT"
   ]
  },
  {
   "cell_type": "code",
   "execution_count": 4,
   "id": "2acc7aad",
   "metadata": {},
   "outputs": [
    {
     "data": {
      "text/plain": [
       "sce_source\n",
       "WT_12         648\n",
       "WT_untx       491\n",
       "dtype: int64"
      ]
     },
     "execution_count": 4,
     "metadata": {},
     "output_type": "execute_result"
    }
   ],
   "source": [
    "ada_WT.obs[['sce_source']].value_counts()"
   ]
  },
  {
   "cell_type": "code",
   "execution_count": 5,
   "id": "ddeaaf6d",
   "metadata": {},
   "outputs": [
    {
     "data": {
      "text/plain": [
       "True"
      ]
     },
     "execution_count": 5,
     "metadata": {},
     "output_type": "execute_result"
    }
   ],
   "source": [
    "'TREM2' in list(ada_WT.var_names)"
   ]
  },
  {
   "cell_type": "code",
   "execution_count": 6,
   "id": "1fa31969",
   "metadata": {},
   "outputs": [
    {
     "data": {
      "text/plain": [
       "AnnData object with n_obs × n_vars = 648 × 3000\n",
       "    obs: 'sce_source', 'treatment', 'trem2_genotype', 'snn_cluster', 'nCount_RNA', 'nFeature_RNA'\n",
       "    var: 'vst.mean', 'vst.variance', 'vst.variance.expected', 'vst.variance.standardized', 'vst.variable'"
      ]
     },
     "execution_count": 6,
     "metadata": {},
     "output_type": "execute_result"
    }
   ],
   "source": [
    "ada_WT = ada_WT[ada_WT.obs['sce_source'] == 'WT_12', :].copy()\n",
    "ada_WT"
   ]
  },
  {
   "cell_type": "code",
   "execution_count": 7,
   "id": "1e37d540",
   "metadata": {
    "scrolled": true
   },
   "outputs": [
    {
     "name": "stdout",
     "output_type": "stream",
     "text": [
      "use all the cells (648) in adata\n",
      "loading GRN from \"GRNs/pcNet_Trem2_WT_12.npz\"\n",
      "init completed\n",
      "\n",
      "*** Base Object ***\n",
      " ._counts: (648, 3000)\n",
      " ._net: (3000, 3000)\n",
      " ._target_gene: ['TREM2']\n"
     ]
    }
   ],
   "source": [
    "KO_obj = gk.GenKI(ada_WT, \n",
    "                target_gene = ['TREM2'], \n",
    "                target_cell = None, \n",
    "                obs_label = 'ident',\n",
    "                GRN_file_dir = 'GRNs',\n",
    "                rebuild_GRN = False,\n",
    "                pcNet_name = 'pcNet_Trem2_WT_12',\n",
    "                verbose = True,\n",
    "                n_cpus = 8)\n",
    "print(KO_obj)"
   ]
  },
  {
   "cell_type": "code",
   "execution_count": 8,
   "id": "8324b45e",
   "metadata": {},
   "outputs": [
    {
     "data": {
      "text/plain": [
       "[2999]"
      ]
     },
     "execution_count": 8,
     "metadata": {},
     "output_type": "execute_result"
    }
   ],
   "source": [
    "KO_obj(['TREM2']) # index"
   ]
  },
  {
   "cell_type": "code",
   "execution_count": 9,
   "id": "ffadbe23",
   "metadata": {
    "scrolled": true
   },
   "outputs": [
    {
     "data": {
      "text/plain": [
       "Data(x=[3000, 648], edge_index=[2, 1350000], y=[3000])"
      ]
     },
     "execution_count": 9,
     "metadata": {},
     "output_type": "execute_result"
    }
   ],
   "source": [
    "data = KO_obj.data_init()\n",
    "data"
   ]
  },
  {
   "cell_type": "code",
   "execution_count": 10,
   "id": "7d3bc9b9",
   "metadata": {},
   "outputs": [
    {
     "name": "stdout",
     "output_type": "stream",
     "text": [
      "set expression of \"['TREM2']\" to zeros and remove edges\n"
     ]
    },
    {
     "data": {
      "text/plain": [
       "Data(x=[3000, 648], edge_index=[2, 1345574], y=[3000])"
      ]
     },
     "execution_count": 10,
     "metadata": {},
     "output_type": "execute_result"
    }
   ],
   "source": [
    "data_KO = KO_obj.KO_data_init()\n",
    "data_KO "
   ]
  },
  {
   "cell_type": "markdown",
   "id": "9802fc77",
   "metadata": {},
   "source": [
    "#### model"
   ]
  },
  {
   "cell_type": "code",
   "execution_count": null,
   "id": "00e90385",
   "metadata": {
    "scrolled": true
   },
   "outputs": [],
   "source": [
    "model = gk.train_VGAEmodel(data)"
   ]
  },
  {
   "cell_type": "code",
   "execution_count": null,
   "id": "e16a285e",
   "metadata": {},
   "outputs": [],
   "source": [
    "# gk.save_model(model, 'Microglia_TREM2_WT_12')"
   ]
  },
  {
   "cell_type": "code",
   "execution_count": 11,
   "id": "e05f0675",
   "metadata": {},
   "outputs": [
    {
     "name": "stdout",
     "output_type": "stream",
     "text": [
      "load model parameters from \"./model/Microglia_TREM2_WT_12.th\"\n"
     ]
    }
   ],
   "source": [
    "model = gk.load_model(KO_obj, 'Microglia_TREM2_WT_12')"
   ]
  },
  {
   "cell_type": "code",
   "execution_count": 12,
   "id": "eb4bfe29",
   "metadata": {},
   "outputs": [
    {
     "data": {
      "text/plain": [
       "VGAE(\n",
       "  (encoder): VariationalGCNEncoder(\n",
       "    (conv1): GCNConv(648, 4)\n",
       "    (conv_mu): GCNConv(4, 2)\n",
       "    (conv_logstd): GCNConv(4, 2)\n",
       "  )\n",
       "  (decoder): InnerProductDecoder()\n",
       ")"
      ]
     },
     "execution_count": 12,
     "metadata": {},
     "output_type": "execute_result"
    }
   ],
   "source": [
    "model.eval()"
   ]
  },
  {
   "cell_type": "code",
   "execution_count": null,
   "id": "6860de24",
   "metadata": {
    "scrolled": true
   },
   "outputs": [],
   "source": [
    "# for name, parameter in model.named_parameters():\n",
    "#     print(name)\n",
    "#     print(parameter) # bias + coeff\n",
    "#     print(parameter.shape)\n",
    "#     print('\\n')"
   ]
  },
  {
   "cell_type": "code",
   "execution_count": 13,
   "id": "e055e8f3",
   "metadata": {},
   "outputs": [],
   "source": [
    "z_mu, z_std = gk.get_latent_vars(data, model)"
   ]
  },
  {
   "cell_type": "code",
   "execution_count": 14,
   "id": "286ade1d",
   "metadata": {},
   "outputs": [],
   "source": [
    "z_mu_KO, z_std_KO = gk.get_latent_vars(data_KO, model)"
   ]
  },
  {
   "cell_type": "markdown",
   "id": "dce2375a",
   "metadata": {},
   "source": [
    "### get distance between WT and KO"
   ]
  },
  {
   "cell_type": "code",
   "execution_count": 15,
   "id": "88aa7a98",
   "metadata": {},
   "outputs": [
    {
     "name": "stdout",
     "output_type": "stream",
     "text": [
      "(3000,)\n"
     ]
    },
    {
     "data": {
      "text/plain": [
       "array([1.25540649e+28])"
      ]
     },
     "execution_count": 15,
     "metadata": {},
     "output_type": "execute_result"
    }
   ],
   "source": [
    "dis = gk.get_distance(z_mu_KO, z_std_KO, z_mu, z_std, by = 'KL')\n",
    "print(dis.shape)\n",
    "\n",
    "dis[KO_obj(['TREM2'])]"
   ]
  },
  {
   "cell_type": "code",
   "execution_count": null,
   "id": "f3d34c41",
   "metadata": {},
   "outputs": [],
   "source": [
    "# dis = amp.get_distance(z_mu, z_std, z_mu_KO, z_std_KO, by = 'KL')\n",
    "# print(dis.shape)\n",
    "\n",
    "# dis[KO_obj('Trem2')]"
   ]
  },
  {
   "cell_type": "code",
   "execution_count": 16,
   "id": "0b8d0128",
   "metadata": {},
   "outputs": [
    {
     "name": "stderr",
     "output_type": "stream",
     "text": [
      "Permutating: 100%|██████████| 100/100 [01:03<00:00,  1.58it/s]\n"
     ]
    },
    {
     "data": {
      "text/plain": [
       "(100, 3000)"
      ]
     },
     "execution_count": 16,
     "metadata": {},
     "output_type": "execute_result"
    }
   ],
   "source": [
    "null = gk.pmt(data, data_KO, model, n = 100, by = 'KL')\n",
    "null.shape"
   ]
  },
  {
   "cell_type": "code",
   "execution_count": 17,
   "id": "cc063e61",
   "metadata": {},
   "outputs": [
    {
     "data": {
      "text/html": [
       "<div>\n",
       "<style scoped>\n",
       "    .dataframe tbody tr th:only-of-type {\n",
       "        vertical-align: middle;\n",
       "    }\n",
       "\n",
       "    .dataframe tbody tr th {\n",
       "        vertical-align: top;\n",
       "    }\n",
       "\n",
       "    .dataframe thead th {\n",
       "        text-align: right;\n",
       "    }\n",
       "</style>\n",
       "<table border=\"1\" class=\"dataframe\">\n",
       "  <thead>\n",
       "    <tr style=\"text-align: right;\">\n",
       "      <th></th>\n",
       "      <th>dis</th>\n",
       "      <th>index</th>\n",
       "      <th>hit</th>\n",
       "      <th>rank</th>\n",
       "    </tr>\n",
       "  </thead>\n",
       "  <tbody>\n",
       "    <tr>\n",
       "      <th>TREM2</th>\n",
       "      <td>1.255406e+28</td>\n",
       "      <td>2999</td>\n",
       "      <td>100</td>\n",
       "      <td>1</td>\n",
       "    </tr>\n",
       "    <tr>\n",
       "      <th>CTSD</th>\n",
       "      <td>4.323314e+25</td>\n",
       "      <td>1105</td>\n",
       "      <td>100</td>\n",
       "      <td>2</td>\n",
       "    </tr>\n",
       "    <tr>\n",
       "      <th>APOE</th>\n",
       "      <td>3.548728e+25</td>\n",
       "      <td>2964</td>\n",
       "      <td>100</td>\n",
       "      <td>3</td>\n",
       "    </tr>\n",
       "    <tr>\n",
       "      <th>CD74</th>\n",
       "      <td>1.580187e+25</td>\n",
       "      <td>2998</td>\n",
       "      <td>100</td>\n",
       "      <td>4</td>\n",
       "    </tr>\n",
       "    <tr>\n",
       "      <th>LYZ2</th>\n",
       "      <td>5.440485e+24</td>\n",
       "      <td>2961</td>\n",
       "      <td>100</td>\n",
       "      <td>5</td>\n",
       "    </tr>\n",
       "    <tr>\n",
       "      <th>...</th>\n",
       "      <td>...</td>\n",
       "      <td>...</td>\n",
       "      <td>...</td>\n",
       "      <td>...</td>\n",
       "    </tr>\n",
       "    <tr>\n",
       "      <th>COX6A1</th>\n",
       "      <td>1.277547e+15</td>\n",
       "      <td>1476</td>\n",
       "      <td>100</td>\n",
       "      <td>144</td>\n",
       "    </tr>\n",
       "    <tr>\n",
       "      <th>ATOX1</th>\n",
       "      <td>1.272084e+15</td>\n",
       "      <td>2027</td>\n",
       "      <td>100</td>\n",
       "      <td>145</td>\n",
       "    </tr>\n",
       "    <tr>\n",
       "      <th>QK</th>\n",
       "      <td>1.189416e+15</td>\n",
       "      <td>1426</td>\n",
       "      <td>100</td>\n",
       "      <td>146</td>\n",
       "    </tr>\n",
       "    <tr>\n",
       "      <th>CAMK2N1</th>\n",
       "      <td>1.174189e+15</td>\n",
       "      <td>1372</td>\n",
       "      <td>100</td>\n",
       "      <td>147</td>\n",
       "    </tr>\n",
       "    <tr>\n",
       "      <th>ENO1</th>\n",
       "      <td>1.140145e+15</td>\n",
       "      <td>2518</td>\n",
       "      <td>100</td>\n",
       "      <td>148</td>\n",
       "    </tr>\n",
       "  </tbody>\n",
       "</table>\n",
       "<p>148 rows × 4 columns</p>\n",
       "</div>"
      ],
      "text/plain": [
       "                  dis  index  hit  rank\n",
       "TREM2    1.255406e+28   2999  100     1\n",
       "CTSD     4.323314e+25   1105  100     2\n",
       "APOE     3.548728e+25   2964  100     3\n",
       "CD74     1.580187e+25   2998  100     4\n",
       "LYZ2     5.440485e+24   2961  100     5\n",
       "...               ...    ...  ...   ...\n",
       "COX6A1   1.277547e+15   1476  100   144\n",
       "ATOX1    1.272084e+15   2027  100   145\n",
       "QK       1.189416e+15   1426  100   146\n",
       "CAMK2N1  1.174189e+15   1372  100   147\n",
       "ENO1     1.140145e+15   2518  100   148\n",
       "\n",
       "[148 rows x 4 columns]"
      ]
     },
     "execution_count": 17,
     "metadata": {},
     "output_type": "execute_result"
    }
   ],
   "source": [
    "res = gk.get_generank(data, dis, null)\n",
    "#                       save_significant_as = 'gene_list_Microglia_TREM2')\n",
    "res"
   ]
  },
  {
   "cell_type": "code",
   "execution_count": 18,
   "id": "e39a4085",
   "metadata": {},
   "outputs": [
    {
     "data": {
      "text/plain": [
       "dis      1.255406e+28\n",
       "index    2.999000e+03\n",
       "hit      1.000000e+02\n",
       "rank     1.000000e+00\n",
       "Name: TREM2, dtype: float64"
      ]
     },
     "execution_count": 18,
     "metadata": {},
     "output_type": "execute_result"
    }
   ],
   "source": [
    "res.loc['TREM2']"
   ]
  },
  {
   "cell_type": "code",
   "execution_count": 19,
   "id": "bbef60d2",
   "metadata": {},
   "outputs": [
    {
     "data": {
      "text/html": [
       "<div>\n",
       "<style scoped>\n",
       "    .dataframe tbody tr th:only-of-type {\n",
       "        vertical-align: middle;\n",
       "    }\n",
       "\n",
       "    .dataframe tbody tr th {\n",
       "        vertical-align: top;\n",
       "    }\n",
       "\n",
       "    .dataframe thead th {\n",
       "        text-align: right;\n",
       "    }\n",
       "</style>\n",
       "<table border=\"1\" class=\"dataframe\">\n",
       "  <thead>\n",
       "    <tr style=\"text-align: right;\">\n",
       "      <th></th>\n",
       "      <th>dis</th>\n",
       "      <th>rank</th>\n",
       "      <th>dis_norm</th>\n",
       "    </tr>\n",
       "  </thead>\n",
       "  <tbody>\n",
       "    <tr>\n",
       "      <th>TREM2</th>\n",
       "      <td>1.255406e+28</td>\n",
       "      <td>1</td>\n",
       "      <td>2.287351</td>\n",
       "    </tr>\n",
       "    <tr>\n",
       "      <th>CTSD</th>\n",
       "      <td>4.323314e+25</td>\n",
       "      <td>2</td>\n",
       "      <td>2.221377</td>\n",
       "    </tr>\n",
       "    <tr>\n",
       "      <th>APOE</th>\n",
       "      <td>3.548728e+25</td>\n",
       "      <td>3</td>\n",
       "      <td>2.218843</td>\n",
       "    </tr>\n",
       "    <tr>\n",
       "      <th>CD74</th>\n",
       "      <td>1.580187e+25</td>\n",
       "      <td>4</td>\n",
       "      <td>2.208279</td>\n",
       "    </tr>\n",
       "    <tr>\n",
       "      <th>LYZ2</th>\n",
       "      <td>5.440485e+24</td>\n",
       "      <td>5</td>\n",
       "      <td>2.193903</td>\n",
       "    </tr>\n",
       "    <tr>\n",
       "      <th>...</th>\n",
       "      <td>...</td>\n",
       "      <td>...</td>\n",
       "      <td>...</td>\n",
       "    </tr>\n",
       "    <tr>\n",
       "      <th>CYB5RL</th>\n",
       "      <td>2.996686e-08</td>\n",
       "      <td>2860</td>\n",
       "      <td>-2.462781</td>\n",
       "    </tr>\n",
       "    <tr>\n",
       "      <th>NMNAT3</th>\n",
       "      <td>2.412275e-08</td>\n",
       "      <td>2861</td>\n",
       "      <td>-2.500306</td>\n",
       "    </tr>\n",
       "    <tr>\n",
       "      <th>ELOVL6</th>\n",
       "      <td>2.342130e-08</td>\n",
       "      <td>2862</td>\n",
       "      <td>-2.505432</td>\n",
       "    </tr>\n",
       "    <tr>\n",
       "      <th>TMEM121</th>\n",
       "      <td>2.272594e-08</td>\n",
       "      <td>2863</td>\n",
       "      <td>-2.510672</td>\n",
       "    </tr>\n",
       "    <tr>\n",
       "      <th>GM10031</th>\n",
       "      <td>1.946458e-08</td>\n",
       "      <td>2864</td>\n",
       "      <td>-2.537693</td>\n",
       "    </tr>\n",
       "  </tbody>\n",
       "</table>\n",
       "<p>2864 rows × 3 columns</p>\n",
       "</div>"
      ],
      "text/plain": [
       "                  dis  rank  dis_norm\n",
       "TREM2    1.255406e+28     1  2.287351\n",
       "CTSD     4.323314e+25     2  2.221377\n",
       "APOE     3.548728e+25     3  2.218843\n",
       "CD74     1.580187e+25     4  2.208279\n",
       "LYZ2     5.440485e+24     5  2.193903\n",
       "...               ...   ...       ...\n",
       "CYB5RL   2.996686e-08  2860 -2.462781\n",
       "NMNAT3   2.412275e-08  2861 -2.500306\n",
       "ELOVL6   2.342130e-08  2862 -2.505432\n",
       "TMEM121  2.272594e-08  2863 -2.510672\n",
       "GM10031  1.946458e-08  2864 -2.537693\n",
       "\n",
       "[2864 rows x 3 columns]"
      ]
     },
     "execution_count": 19,
     "metadata": {},
     "output_type": "execute_result"
    }
   ],
   "source": [
    "res_gsea = gk.get_generank_gsea(data, dis) \n",
    "# save_as = 'Microglia_TREM2')\n",
    "res_gsea"
   ]
  },
  {
   "cell_type": "code",
   "execution_count": null,
   "id": "dc56ec6b",
   "metadata": {},
   "outputs": [],
   "source": []
  }
 ],
 "metadata": {
  "kernelspec": {
   "display_name": "Python 3 (ipykernel)",
   "language": "python",
   "name": "python3"
  },
  "language_info": {
   "codemirror_mode": {
    "name": "ipython",
    "version": 3
   },
   "file_extension": ".py",
   "mimetype": "text/x-python",
   "name": "python",
   "nbconvert_exporter": "python",
   "pygments_lexer": "ipython3",
   "version": "3.9.13"
  }
 },
 "nbformat": 4,
 "nbformat_minor": 5
}
