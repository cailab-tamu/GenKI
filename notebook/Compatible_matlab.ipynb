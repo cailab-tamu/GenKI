{
 "cells": [
  {
   "cell_type": "code",
   "execution_count": 1,
   "id": "6c209667",
   "metadata": {},
   "outputs": [],
   "source": [
    "import os\n",
    "import numpy as np\n",
    "import pandas as pd\n",
    "import matplotlib.pyplot as plt\n",
    "import scanpy as sc\n",
    "\n",
    "sc.settings.verbosity = 0"
   ]
  },
  {
   "cell_type": "code",
   "execution_count": 2,
   "id": "ffae2228",
   "metadata": {},
   "outputs": [],
   "source": [
    "import GenKI as gk\n",
    "from GenKI.preprocesing import build_adata\n",
    "from GenKI.dataLoader import DataLoader\n",
    "from GenKI.train import VGAE_trainer\n",
    "from GenKI import utils\n",
    "\n",
    "%load_ext autoreload\n",
    "%autoreload 2"
   ]
  },
  {
   "cell_type": "code",
   "execution_count": 3,
   "id": "d32e28a9",
   "metadata": {},
   "outputs": [
    {
     "name": "stdout",
     "output_type": "stream",
     "text": [
      "load counts from data\\filtered_gene_bc_matrices\\X.txt\n",
      "AnnData object with n_obs × n_vars = 100 × 300\n",
      "    obs: 'cell_type'\n",
      "    uns: 'log1p'\n",
      "    layers: 'raw', 'norm'\n"
     ]
    }
   ],
   "source": [
    "# example\n",
    "\n",
    "data_dir = os.path.join(\"data\", \"filtered_gene_bc_matrices\")\n",
    "counts_path = str(os.path.join(data_dir, \"X.txt\"))\n",
    "gene_path = str(os.path.join(data_dir, \"g.txt\"))\n",
    "cell_path = str(os.path.join(data_dir, \"c.txt\"))\n",
    "\n",
    "adata = build_adata(counts_path, \n",
    "                    gene_path, \n",
    "                    cell_path, \n",
    "                    meta_cell_cols=[\"cell_type\"], # colname of cell type\n",
    "                    delimiter=',', # X.txt\n",
    "                    transpose=True, # X.txt\n",
    "                    log_normalize=True,\n",
    "                    scale_data=True,\n",
    "                   )\n",
    "\n",
    "adata = adata[:100, :300].copy()\n",
    "print(adata)"
   ]
  },
  {
   "cell_type": "code",
   "execution_count": 4,
   "id": "071c88c5",
   "metadata": {},
   "outputs": [
    {
     "data": {
      "text/plain": [
       "'LAMB3'"
      ]
     },
     "execution_count": 4,
     "metadata": {},
     "output_type": "execute_result"
    }
   ],
   "source": [
    "# gene to ko\n",
    "adata.var_names[66]"
   ]
  },
  {
   "cell_type": "code",
   "execution_count": 5,
   "id": "1e37d540",
   "metadata": {
    "scrolled": true
   },
   "outputs": [
    {
     "name": "stdout",
     "output_type": "stream",
     "text": [
      "use all the cells (100) in adata\n",
      "build GRN\n",
      "ray init, using 8 CPUs\n",
      "execution time of making pcNet: 6.34 s\n",
      "GRN has been built and saved in \"GRNs\\pcNet_example.npz\"\n",
      "init completed\n",
      "\n"
     ]
    }
   ],
   "source": [
    "# load data\n",
    "\n",
    "data_wrapper =  DataLoader(\n",
    "                adata, # adata object\n",
    "                target_gene = [66], # KO gene name/index\n",
    "                target_cell = None, # obsname for cell type, if none use all\n",
    "                obs_label = \"cell_type\", # colname for genes\n",
    "                GRN_file_dir = \"GRNs\", # folder name for GRNs\n",
    "                rebuild_GRN = True, # whether build GRN by pcNet\n",
    "                pcNet_name = \"pcNet_example\", # GRN file name\n",
    "                verbose = True, # whether verbose\n",
    "                n_cpus = 8, # multiprocessing\n",
    "                )\n",
    "\n",
    "data_wt = data_wrapper.load_data()\n",
    "data_ko = data_wrapper.load_kodata()"
   ]
  },
  {
   "cell_type": "code",
   "execution_count": 6,
   "id": "7862c768",
   "metadata": {},
   "outputs": [],
   "source": [
    "# init trainer\n",
    "\n",
    "hyperparams = {\"epochs\": 100, \n",
    "               \"lr\": 7e-4, \n",
    "               \"beta\": 1e-4, \n",
    "               \"seed\": 8096}\n",
    "log_dir=None \n",
    "\n",
    "sensei = VGAE_trainer(data_wt, \n",
    "                     epochs=hyperparams[\"epochs\"], \n",
    "                     lr=hyperparams[\"lr\"], \n",
    "                     log_dir=log_dir, \n",
    "                     beta=hyperparams[\"beta\"],\n",
    "                     seed=hyperparams[\"seed\"],\n",
    "                     verbose=True,\n",
    "                     )"
   ]
  },
  {
   "cell_type": "code",
   "execution_count": 7,
   "id": "31bfb6a0",
   "metadata": {
    "scrolled": false
   },
   "outputs": [
    {
     "name": "stdout",
     "output_type": "stream",
     "text": [
      "Epoch: 000, Loss: 1.5318, AUROC: 0.8618, AP: 0.7514\n",
      "Epoch: 001, Loss: 1.4803, AUROC: 0.8643, AP: 0.7555\n",
      "Epoch: 002, Loss: 1.5022, AUROC: 0.8668, AP: 0.7596\n",
      "Epoch: 003, Loss: 1.4556, AUROC: 0.8692, AP: 0.7634\n",
      "Epoch: 004, Loss: 1.4764, AUROC: 0.8715, AP: 0.7671\n",
      "Epoch: 005, Loss: 1.4815, AUROC: 0.8739, AP: 0.7708\n",
      "Epoch: 006, Loss: 1.4358, AUROC: 0.8760, AP: 0.7744\n",
      "Epoch: 007, Loss: 1.4775, AUROC: 0.8783, AP: 0.7781\n",
      "Epoch: 008, Loss: 1.4364, AUROC: 0.8804, AP: 0.7812\n",
      "Epoch: 009, Loss: 1.4689, AUROC: 0.8823, AP: 0.7839\n",
      "Epoch: 010, Loss: 1.4504, AUROC: 0.8842, AP: 0.7863\n",
      "Epoch: 011, Loss: 1.4228, AUROC: 0.8859, AP: 0.7886\n",
      "Epoch: 012, Loss: 1.4194, AUROC: 0.8875, AP: 0.7907\n",
      "Epoch: 013, Loss: 1.3903, AUROC: 0.8890, AP: 0.7928\n",
      "Epoch: 014, Loss: 1.3900, AUROC: 0.8904, AP: 0.7948\n",
      "Epoch: 015, Loss: 1.3866, AUROC: 0.8916, AP: 0.7969\n",
      "Epoch: 016, Loss: 1.3610, AUROC: 0.8928, AP: 0.7991\n",
      "Epoch: 017, Loss: 1.3729, AUROC: 0.8940, AP: 0.8016\n",
      "Epoch: 018, Loss: 1.3424, AUROC: 0.8953, AP: 0.8042\n",
      "Epoch: 019, Loss: 1.3410, AUROC: 0.8965, AP: 0.8069\n",
      "Epoch: 020, Loss: 1.3542, AUROC: 0.8977, AP: 0.8100\n",
      "Epoch: 021, Loss: 1.3635, AUROC: 0.8989, AP: 0.8131\n",
      "Epoch: 022, Loss: 1.3064, AUROC: 0.9001, AP: 0.8165\n",
      "Epoch: 023, Loss: 1.3163, AUROC: 0.9013, AP: 0.8197\n",
      "Epoch: 024, Loss: 1.3282, AUROC: 0.9026, AP: 0.8227\n",
      "Epoch: 025, Loss: 1.3091, AUROC: 0.9038, AP: 0.8250\n",
      "Epoch: 026, Loss: 1.2974, AUROC: 0.9050, AP: 0.8271\n",
      "Epoch: 027, Loss: 1.2778, AUROC: 0.9061, AP: 0.8291\n",
      "Epoch: 028, Loss: 1.2874, AUROC: 0.9070, AP: 0.8308\n",
      "Epoch: 029, Loss: 1.2723, AUROC: 0.9080, AP: 0.8323\n",
      "Epoch: 030, Loss: 1.2780, AUROC: 0.9087, AP: 0.8336\n",
      "Epoch: 031, Loss: 1.2760, AUROC: 0.9095, AP: 0.8348\n",
      "Epoch: 032, Loss: 1.2589, AUROC: 0.9102, AP: 0.8359\n",
      "Epoch: 033, Loss: 1.2620, AUROC: 0.9109, AP: 0.8369\n",
      "Epoch: 034, Loss: 1.2600, AUROC: 0.9114, AP: 0.8377\n",
      "Epoch: 035, Loss: 1.2685, AUROC: 0.9119, AP: 0.8384\n",
      "Epoch: 036, Loss: 1.2250, AUROC: 0.9124, AP: 0.8392\n",
      "Epoch: 037, Loss: 1.2224, AUROC: 0.9128, AP: 0.8399\n",
      "Epoch: 038, Loss: 1.2461, AUROC: 0.9132, AP: 0.8406\n",
      "Epoch: 039, Loss: 1.2168, AUROC: 0.9136, AP: 0.8413\n",
      "Epoch: 040, Loss: 1.2123, AUROC: 0.9140, AP: 0.8419\n",
      "Epoch: 041, Loss: 1.2369, AUROC: 0.9143, AP: 0.8425\n",
      "Epoch: 042, Loss: 1.2207, AUROC: 0.9146, AP: 0.8431\n",
      "Epoch: 043, Loss: 1.2010, AUROC: 0.9148, AP: 0.8436\n",
      "Epoch: 044, Loss: 1.2111, AUROC: 0.9151, AP: 0.8443\n",
      "Epoch: 045, Loss: 1.2058, AUROC: 0.9153, AP: 0.8451\n",
      "Epoch: 046, Loss: 1.1937, AUROC: 0.9155, AP: 0.8459\n",
      "Epoch: 047, Loss: 1.1681, AUROC: 0.9158, AP: 0.8469\n",
      "Epoch: 048, Loss: 1.1873, AUROC: 0.9160, AP: 0.8477\n",
      "Epoch: 049, Loss: 1.1639, AUROC: 0.9162, AP: 0.8484\n",
      "Epoch: 050, Loss: 1.1858, AUROC: 0.9164, AP: 0.8490\n",
      "Epoch: 051, Loss: 1.1696, AUROC: 0.9166, AP: 0.8496\n",
      "Epoch: 052, Loss: 1.1834, AUROC: 0.9168, AP: 0.8502\n",
      "Epoch: 053, Loss: 1.2075, AUROC: 0.9170, AP: 0.8507\n",
      "Epoch: 054, Loss: 1.1903, AUROC: 0.9171, AP: 0.8512\n",
      "Epoch: 055, Loss: 1.1360, AUROC: 0.9173, AP: 0.8516\n",
      "Epoch: 056, Loss: 1.1702, AUROC: 0.9174, AP: 0.8521\n",
      "Epoch: 057, Loss: 1.1352, AUROC: 0.9175, AP: 0.8525\n",
      "Epoch: 058, Loss: 1.1411, AUROC: 0.9176, AP: 0.8528\n",
      "Epoch: 059, Loss: 1.1275, AUROC: 0.9178, AP: 0.8533\n",
      "Epoch: 060, Loss: 1.1570, AUROC: 0.9179, AP: 0.8536\n",
      "Epoch: 061, Loss: 1.1273, AUROC: 0.9179, AP: 0.8539\n",
      "Epoch: 062, Loss: 1.1276, AUROC: 0.9179, AP: 0.8542\n",
      "Epoch: 063, Loss: 1.1243, AUROC: 0.9180, AP: 0.8546\n",
      "Epoch: 064, Loss: 1.0985, AUROC: 0.9181, AP: 0.8549\n",
      "Epoch: 065, Loss: 1.1350, AUROC: 0.9182, AP: 0.8551\n",
      "Epoch: 066, Loss: 1.1116, AUROC: 0.9182, AP: 0.8554\n",
      "Epoch: 067, Loss: 1.1489, AUROC: 0.9182, AP: 0.8555\n",
      "Epoch: 068, Loss: 1.1193, AUROC: 0.9182, AP: 0.8557\n",
      "Epoch: 069, Loss: 1.1360, AUROC: 0.9182, AP: 0.8558\n",
      "Epoch: 070, Loss: 1.1065, AUROC: 0.9182, AP: 0.8560\n",
      "Epoch: 071, Loss: 1.0939, AUROC: 0.9183, AP: 0.8562\n",
      "Epoch: 072, Loss: 1.1089, AUROC: 0.9183, AP: 0.8562\n",
      "Epoch: 073, Loss: 1.1342, AUROC: 0.9182, AP: 0.8562\n",
      "Epoch: 074, Loss: 1.0828, AUROC: 0.9182, AP: 0.8562\n",
      "Epoch: 075, Loss: 1.1173, AUROC: 0.9182, AP: 0.8563\n",
      "Epoch: 076, Loss: 1.1005, AUROC: 0.9182, AP: 0.8565\n",
      "Epoch: 077, Loss: 1.0860, AUROC: 0.9181, AP: 0.8566\n",
      "Epoch: 078, Loss: 1.0871, AUROC: 0.9181, AP: 0.8567\n",
      "Epoch: 079, Loss: 1.1317, AUROC: 0.9181, AP: 0.8569\n",
      "Epoch: 080, Loss: 1.0836, AUROC: 0.9181, AP: 0.8571\n",
      "Epoch: 081, Loss: 1.0848, AUROC: 0.9181, AP: 0.8573\n",
      "Epoch: 082, Loss: 1.0880, AUROC: 0.9182, AP: 0.8577\n",
      "Epoch: 083, Loss: 1.1009, AUROC: 0.9182, AP: 0.8579\n",
      "Epoch: 084, Loss: 1.0999, AUROC: 0.9182, AP: 0.8582\n",
      "Epoch: 085, Loss: 1.0923, AUROC: 0.9183, AP: 0.8586\n",
      "Epoch: 086, Loss: 1.1181, AUROC: 0.9183, AP: 0.8589\n",
      "Epoch: 087, Loss: 1.0989, AUROC: 0.9183, AP: 0.8592\n",
      "Epoch: 088, Loss: 1.0841, AUROC: 0.9183, AP: 0.8595\n",
      "Epoch: 089, Loss: 1.1156, AUROC: 0.9183, AP: 0.8597\n",
      "Epoch: 090, Loss: 1.0894, AUROC: 0.9183, AP: 0.8600\n",
      "Epoch: 091, Loss: 1.0946, AUROC: 0.9183, AP: 0.8603\n",
      "Epoch: 092, Loss: 1.0588, AUROC: 0.9183, AP: 0.8608\n",
      "Epoch: 093, Loss: 1.1279, AUROC: 0.9183, AP: 0.8611\n",
      "Epoch: 094, Loss: 1.0511, AUROC: 0.9183, AP: 0.8615\n",
      "Epoch: 095, Loss: 1.0543, AUROC: 0.9183, AP: 0.8620\n",
      "Epoch: 096, Loss: 1.0692, AUROC: 0.9183, AP: 0.8625\n",
      "Epoch: 097, Loss: 1.0644, AUROC: 0.9184, AP: 0.8630\n",
      "Epoch: 098, Loss: 1.0727, AUROC: 0.9185, AP: 0.8635\n",
      "Epoch: 099, Loss: 1.0578, AUROC: 0.9186, AP: 0.8640\n"
     ]
    }
   ],
   "source": [
    "# %%timeit\n",
    "sensei.train()"
   ]
  },
  {
   "cell_type": "code",
   "execution_count": null,
   "id": "e16a285e",
   "metadata": {},
   "outputs": [],
   "source": [
    "# sensei.save_model('model_example')"
   ]
  },
  {
   "cell_type": "code",
   "execution_count": 8,
   "id": "e055e8f3",
   "metadata": {
    "scrolled": true
   },
   "outputs": [],
   "source": [
    "# get distance between wt and ko\n",
    "\n",
    "z_mu_wt, z_std_wt = sensei.get_latent_vars(data_wt)\n",
    "z_mu_ko, z_std_ko = sensei.get_latent_vars(data_ko)\n",
    "dis = gk.utils.get_distance(z_mu_ko, z_std_ko, z_mu_wt, z_std_wt, by=\"KL\")"
   ]
  },
  {
   "cell_type": "code",
   "execution_count": 9,
   "id": "78e852b7",
   "metadata": {},
   "outputs": [
    {
     "data": {
      "text/html": [
       "<div>\n",
       "<style scoped>\n",
       "    .dataframe tbody tr th:only-of-type {\n",
       "        vertical-align: middle;\n",
       "    }\n",
       "\n",
       "    .dataframe tbody tr th {\n",
       "        vertical-align: top;\n",
       "    }\n",
       "\n",
       "    .dataframe thead th {\n",
       "        text-align: right;\n",
       "    }\n",
       "</style>\n",
       "<table border=\"1\" class=\"dataframe\">\n",
       "  <thead>\n",
       "    <tr style=\"text-align: right;\">\n",
       "      <th></th>\n",
       "      <th>dis</th>\n",
       "      <th>rank</th>\n",
       "    </tr>\n",
       "  </thead>\n",
       "  <tbody>\n",
       "    <tr>\n",
       "      <th>LAMB3</th>\n",
       "      <td>52.747102</td>\n",
       "      <td>1</td>\n",
       "    </tr>\n",
       "    <tr>\n",
       "      <th>COL3A1</th>\n",
       "      <td>0.138186</td>\n",
       "      <td>2</td>\n",
       "    </tr>\n",
       "    <tr>\n",
       "      <th>S100A9</th>\n",
       "      <td>0.085078</td>\n",
       "      <td>3</td>\n",
       "    </tr>\n",
       "    <tr>\n",
       "      <th>MDK</th>\n",
       "      <td>0.084988</td>\n",
       "      <td>4</td>\n",
       "    </tr>\n",
       "    <tr>\n",
       "      <th>MFAP2</th>\n",
       "      <td>0.079943</td>\n",
       "      <td>5</td>\n",
       "    </tr>\n",
       "  </tbody>\n",
       "</table>\n",
       "</div>"
      ],
      "text/plain": [
       "              dis  rank\n",
       "LAMB3   52.747102     1\n",
       "COL3A1   0.138186     2\n",
       "S100A9   0.085078     3\n",
       "MDK      0.084988     4\n",
       "MFAP2    0.079943     5"
      ]
     },
     "execution_count": 9,
     "metadata": {},
     "output_type": "execute_result"
    }
   ],
   "source": [
    "# raw ranked gene list\n",
    "\n",
    "res_raw = utils.get_generank(data_wt, dis, rank=True)\n",
    "res_raw.head()"
   ]
  },
  {
   "cell_type": "code",
   "execution_count": 10,
   "id": "9ddf3b86",
   "metadata": {},
   "outputs": [
    {
     "name": "stderr",
     "output_type": "stream",
     "text": [
      "Permutating: 100%|██████████| 100/100 [00:02<00:00, 33.71it/s]\n"
     ]
    },
    {
     "data": {
      "text/html": [
       "<div>\n",
       "<style scoped>\n",
       "    .dataframe tbody tr th:only-of-type {\n",
       "        vertical-align: middle;\n",
       "    }\n",
       "\n",
       "    .dataframe tbody tr th {\n",
       "        vertical-align: top;\n",
       "    }\n",
       "\n",
       "    .dataframe thead th {\n",
       "        text-align: right;\n",
       "    }\n",
       "</style>\n",
       "<table border=\"1\" class=\"dataframe\">\n",
       "  <thead>\n",
       "    <tr style=\"text-align: right;\">\n",
       "      <th></th>\n",
       "      <th>dis</th>\n",
       "      <th>index</th>\n",
       "      <th>hit</th>\n",
       "      <th>rank</th>\n",
       "    </tr>\n",
       "  </thead>\n",
       "  <tbody>\n",
       "    <tr>\n",
       "      <th>LAMB3</th>\n",
       "      <td>52.747102</td>\n",
       "      <td>66</td>\n",
       "      <td>100</td>\n",
       "      <td>1</td>\n",
       "    </tr>\n",
       "    <tr>\n",
       "      <th>COL3A1</th>\n",
       "      <td>0.138186</td>\n",
       "      <td>9</td>\n",
       "      <td>100</td>\n",
       "      <td>2</td>\n",
       "    </tr>\n",
       "    <tr>\n",
       "      <th>S100A9</th>\n",
       "      <td>0.085078</td>\n",
       "      <td>194</td>\n",
       "      <td>100</td>\n",
       "      <td>3</td>\n",
       "    </tr>\n",
       "    <tr>\n",
       "      <th>TIMP1</th>\n",
       "      <td>0.033647</td>\n",
       "      <td>145</td>\n",
       "      <td>100</td>\n",
       "      <td>4</td>\n",
       "    </tr>\n",
       "  </tbody>\n",
       "</table>\n",
       "</div>"
      ],
      "text/plain": [
       "              dis  index  hit  rank\n",
       "LAMB3   52.747102     66  100     1\n",
       "COL3A1   0.138186      9  100     2\n",
       "S100A9   0.085078    194  100     3\n",
       "TIMP1    0.033647    145  100     4"
      ]
     },
     "execution_count": 10,
     "metadata": {},
     "output_type": "execute_result"
    }
   ],
   "source": [
    "# if permutation test\n",
    "\n",
    "null = sensei.pmt(data_ko, n=100, by=\"KL\")\n",
    "res = utils.get_generank(data_wt, dis, null,)\n",
    "#                       save_significant_as = 'gene_list_example')\n",
    "res"
   ]
  },
  {
   "cell_type": "code",
   "execution_count": null,
   "id": "fc571eb2",
   "metadata": {},
   "outputs": [],
   "source": []
  }
 ],
 "metadata": {
  "kernelspec": {
   "display_name": "Python 3 (ipykernel)",
   "language": "python",
   "name": "python3"
  },
  "language_info": {
   "codemirror_mode": {
    "name": "ipython",
    "version": 3
   },
   "file_extension": ".py",
   "mimetype": "text/x-python",
   "name": "python",
   "nbconvert_exporter": "python",
   "pygments_lexer": "ipython3",
   "version": "3.9.13"
  }
 },
 "nbformat": 4,
 "nbformat_minor": 5
}
